{
 "cells": [
  {
   "cell_type": "code",
   "execution_count": null,
   "metadata": {},
   "outputs": [],
   "source": [
    "x=int(input(\"Enter the no x: \"))\n",
    "y=int(input(\"Enter the no y: \"))\n",
    "x=x+y\n",
    "y=x-y\n",
    "x=x-y\n",
    "print(\"The value of x is: \",x)\n",
    "print(\"The value of y is: \",y)"
   ]
  },
  {
   "cell_type": "code",
   "execution_count": 1,
   "metadata": {},
   "outputs": [
    {
     "name": "stdout",
     "output_type": "stream",
     "text": [
      "Enter the no: 3\n",
      "Odd 3\n"
     ]
    }
   ],
   "source": [
    "n=int(input(\"Enter the no: \"))\n",
    "if(n%2==0):\n",
    "    print(\"Even\",n)\n",
    "else:\n",
    "    print(\"Odd\",n)"
   ]
  },
  {
   "cell_type": "code",
   "execution_count": 8,
   "metadata": {},
   "outputs": [
    {
     "name": "stdout",
     "output_type": "stream",
     "text": [
      "Enter the no: 81\n",
      "9.0\n"
     ]
    }
   ],
   "source": [
    "import math\n",
    "p=int(input(\"Enter the no: \"))\n",
    "print(math.sqrt(p))"
   ]
  },
  {
   "cell_type": "code",
   "execution_count": 13,
   "metadata": {},
   "outputs": [
    {
     "name": "stdout",
     "output_type": "stream",
     "text": [
      "Enter the no5\n",
      "1\n",
      "2\n",
      "3\n",
      "4\n",
      "5\n",
      "\n",
      "5\n",
      "4\n",
      "3\n",
      "2\n",
      "1\n"
     ]
    }
   ],
   "source": [
    "n=int(input(\"Enter the no\"))\n",
    "for i in range(1,n+1):\n",
    "    print(i)\n",
    "print()\n",
    "for j in range(n,0,-1):\n",
    "    print(j)"
   ]
  },
  {
   "cell_type": "code",
   "execution_count": 16,
   "metadata": {},
   "outputs": [
    {
     "name": "stdout",
     "output_type": "stream",
     "text": [
      "enter the radius5\n",
      "523.3333333333334\n"
     ]
    }
   ],
   "source": [
    "pie=3.14\n",
    "r=float(input(\"enter the radius\"))\n",
    "v=((4/3)*pie*r**3)\n",
    "print(v)"
   ]
  },
  {
   "cell_type": "code",
   "execution_count": 19,
   "metadata": {},
   "outputs": [
    {
     "name": "stdout",
     "output_type": "stream",
     "text": [
      "Enter the no: 8\n",
      "Even no  0\n",
      "Odd no   1\n",
      "Even no  2\n",
      "Odd no   3\n",
      "Even no  4\n",
      "Odd no   5\n",
      "Even no  6\n",
      "Odd no   7\n",
      "Even no  8\n"
     ]
    }
   ],
   "source": [
    "n=int(input(\"Enter the no: \"))\n",
    "for i in range(0,n+1):\n",
    "    if(i%2==0):\n",
    "        print(\"Even no \",i)\n",
    "    else:\n",
    "        print(\"Odd no  \",i)"
   ]
  },
  {
   "cell_type": "code",
   "execution_count": 21,
   "metadata": {},
   "outputs": [
    {
     "name": "stdout",
     "output_type": "stream",
     "text": [
      "Enter the no: 0\n",
      "Enter the no: 1\n",
      "Enter the no: 2\n",
      "It is not a quardatic equation\n"
     ]
    }
   ],
   "source": [
    "import math\n",
    "a=int(input(\"Enter the no: \"))\n",
    "b=int(input(\"Enter the no: \"))\n",
    "c=int(input(\"Enter the no: \"))\n",
    "d=((b**2)-(4*a*c))\n",
    "if(a==0):\n",
    "    print(\"It is not a quardatic equation\")\n",
    "else:    \n",
    "    if(d>0):\n",
    "        root1=(-b+(math.sqrt(d)))/(2*a)\n",
    "        root2=(-b-(math.sqrt(d)))/(2*a)\n",
    "        print(\"Both roots are real \",root1,root2)\n",
    "    elif(d==0):\n",
    "        root=-b/2*a\n",
    "    else:\n",
    "        print(\"The root are imaginary \")\n"
   ]
  },
  {
   "cell_type": "code",
   "execution_count": 36,
   "metadata": {},
   "outputs": [
    {
     "name": "stdout",
     "output_type": "stream",
     "text": [
      "['5', '4', '3', '2', '1']\n"
     ]
    }
   ],
   "source": [
    "a=list(str(54321))\n",
    "print(a)"
   ]
  },
  {
   "cell_type": "code",
   "execution_count": 37,
   "metadata": {},
   "outputs": [
    {
     "name": "stdout",
     "output_type": "stream",
     "text": [
      "1\n"
     ]
    }
   ],
   "source": [
    "print(a.count('4'))"
   ]
  },
  {
   "cell_type": "code",
   "execution_count": 3,
   "metadata": {},
   "outputs": [
    {
     "name": "stdout",
     "output_type": "stream",
     "text": [
      "Enter the no4\n",
      "Enter the no 5\n",
      "24\n"
     ]
    }
   ],
   "source": [
    "n=int(input(\"Enter the no\"))\n",
    "choice=int(input(\"Enter the no \"))\n",
    "if(choice%2==0):\n",
    "    sum=0\n",
    "    for i in range(1,n+1):\n",
    "        sum=sum+i\n",
    "    print(sum)\n",
    "else:\n",
    "    product=1\n",
    "    for j in range(1,n+1):\n",
    "        product=product*j\n",
    "    print(product)"
   ]
  },
  {
   "cell_type": "code",
   "execution_count": 5,
   "metadata": {},
   "outputs": [
    {
     "name": "stdout",
     "output_type": "stream",
     "text": [
      "Enter the no3\n",
      "1498500\n"
     ]
    }
   ],
   "source": [
    "n=int(input(\"Enter the no\"))\n",
    "sum=0\n",
    "for i in range(1,1000):\n",
    "    sum=sum+n*i\n",
    "print(sum)"
   ]
  },
  {
   "cell_type": "code",
   "execution_count": 2,
   "metadata": {},
   "outputs": [
    {
     "name": "stdout",
     "output_type": "stream",
     "text": [
      "2002\n",
      "2009\n",
      "2016\n",
      "2023\n",
      "2037\n",
      "2044\n",
      "2051\n",
      "2058\n",
      "2072\n",
      "2079\n",
      "2086\n",
      "2093\n",
      "2107\n",
      "2114\n",
      "2121\n",
      "2128\n",
      "2142\n",
      "2149\n",
      "2156\n",
      "2163\n",
      "2177\n",
      "2184\n",
      "2191\n",
      "2198\n",
      "2212\n",
      "2219\n",
      "2226\n",
      "2233\n",
      "2247\n",
      "2254\n",
      "2261\n",
      "2268\n",
      "2282\n",
      "2289\n",
      "2296\n",
      "2303\n",
      "2317\n",
      "2324\n",
      "2331\n",
      "2338\n",
      "2352\n",
      "2359\n",
      "2366\n",
      "2373\n",
      "2387\n",
      "2394\n",
      "2401\n",
      "2408\n",
      "2422\n",
      "2429\n",
      "2436\n",
      "2443\n",
      "2457\n",
      "2464\n",
      "2471\n",
      "2478\n",
      "2492\n",
      "2499\n",
      "2506\n",
      "2513\n",
      "2527\n",
      "2534\n",
      "2541\n",
      "2548\n",
      "2562\n",
      "2569\n",
      "2576\n",
      "2583\n",
      "2597\n",
      "2604\n",
      "2611\n",
      "2618\n",
      "2632\n",
      "2639\n",
      "2646\n",
      "2653\n",
      "2667\n",
      "2674\n",
      "2681\n",
      "2688\n",
      "2702\n",
      "2709\n",
      "2716\n",
      "2723\n",
      "2737\n",
      "2744\n",
      "2751\n",
      "2758\n",
      "2772\n",
      "2779\n",
      "2786\n",
      "2793\n",
      "2807\n",
      "2814\n",
      "2821\n",
      "2828\n",
      "2842\n",
      "2849\n",
      "2856\n",
      "2863\n",
      "2877\n",
      "2884\n",
      "2891\n",
      "2898\n",
      "2912\n",
      "2919\n",
      "2926\n",
      "2933\n",
      "2947\n",
      "2954\n",
      "2961\n",
      "2968\n",
      "2982\n",
      "2989\n",
      "2996\n",
      "3003\n",
      "3017\n",
      "3024\n",
      "3031\n",
      "3038\n",
      "3052\n",
      "3059\n",
      "3066\n",
      "3073\n",
      "3087\n",
      "3094\n",
      "3101\n",
      "3108\n",
      "3122\n",
      "3129\n",
      "3136\n",
      "3143\n",
      "3157\n",
      "3164\n",
      "3171\n",
      "3178\n",
      "3192\n",
      "3199\n"
     ]
    }
   ],
   "source": [
    "\n",
    "for i in range(2000,3201):\n",
    "    if(i%7==0):\n",
    "        if(i%5!=0):\n",
    "            print(i)\n",
    "    else:\n",
    "        pass"
   ]
  },
  {
   "cell_type": "code",
   "execution_count": 6,
   "metadata": {},
   "outputs": [
    {
     "name": "stdout",
     "output_type": "stream",
     "text": [
      "333300\n"
     ]
    }
   ],
   "source": [
    "sum_sq=0\n",
    "sum_no=0\n",
    "for i in range(1,101):\n",
    "    sum_sq=sum_sq+i**2\n",
    "    sum_no=sum_no+i\n",
    "diff=sum_sq-sum_no\n",
    "print(diff)"
   ]
  },
  {
   "cell_type": "code",
   "execution_count": 4,
   "metadata": {},
   "outputs": [
    {
     "name": "stdout",
     "output_type": "stream",
     "text": [
      "Enter the no 5\n",
      "Enter the choice2\n",
      "Enter the no 5\n",
      "Enter the choice2\n",
      "Enter the no 5\n",
      "Enter the choicestop\n",
      "15\n",
      "3\n",
      "5.0\n"
     ]
    }
   ],
   "source": [
    "\n",
    "count=0\n",
    "sum_no=0\n",
    "while True:\n",
    "    p=int(input(\"Enter the no \"))\n",
    "    count+=1\n",
    "    us_ch=input(\"Enter the choice\")\n",
    "    sum_no=sum_no+p\n",
    "    average=sum_no/count\n",
    "    if(us_ch==\"stop\"):\n",
    "        break\n",
    "print(sum_no)\n",
    "print(count)\n",
    "print(average)\n",
    "\n",
    "\n",
    " \n",
    "        \n",
    "        \n",
    "    "
   ]
  },
  {
   "cell_type": "code",
   "execution_count": 8,
   "metadata": {},
   "outputs": [
    {
     "name": "stdout",
     "output_type": "stream",
     "text": [
      "Enter the no100\n",
      "3\n",
      "5\n",
      "7\n",
      "11\n",
      "13\n",
      "17\n",
      "19\n",
      "23\n",
      "29\n",
      "31\n",
      "37\n",
      "41\n",
      "43\n",
      "47\n",
      "53\n",
      "59\n",
      "61\n",
      "67\n",
      "71\n",
      "73\n",
      "79\n",
      "83\n",
      "89\n",
      "97\n"
     ]
    }
   ],
   "source": [
    "n=int(input(\"Enter the no\"))\n",
    "for i in range(2,n):\n",
    "    if(i<8):\n",
    "        if(i%2!=0):\n",
    "            print(i)\n",
    "    else:\n",
    "        if(i%2==0 or i%3==0 or i%4==0 or i%5==0 or i%6==0 or i%7==0 or i%8==0 or i%9==0 or i%10==0 ):\n",
    "            continue\n",
    "        else:\n",
    "            print(i)"
   ]
  },
  {
   "cell_type": "code",
   "execution_count": 9,
   "metadata": {},
   "outputs": [
    {
     "name": "stdout",
     "output_type": "stream",
     "text": [
      "Enter the no of terms 5\n",
      "0\n",
      "1\n",
      "1\n",
      "2\n",
      "3\n"
     ]
    }
   ],
   "source": [
    "n=int(input(\"Enter the no of terms \"))\n",
    "def fibo( n):\n",
    "        if(n==1 or n==0):\n",
    "            return n\n",
    "        else:\n",
    "            return fibo(n-1)+fibo(n-2)\n",
    "fibo(n)\n",
    "for i in range(0,n):\n",
    "    print(fibo(i))"
   ]
  },
  {
   "cell_type": "code",
   "execution_count": 13,
   "metadata": {},
   "outputs": [
    {
     "name": "stdout",
     "output_type": "stream",
     "text": [
      "120\n"
     ]
    }
   ],
   "source": [
    "\n",
    "def fact(n):\n",
    "    if(n==0 or n==1):\n",
    "        return 1\n",
    "    else:\n",
    "        return n*fact(n-1)\n",
    "a=fact(5)\n",
    "print(a)"
   ]
  },
  {
   "cell_type": "code",
   "execution_count": 18,
   "metadata": {},
   "outputs": [
    {
     "name": "stdout",
     "output_type": "stream",
     "text": [
      "enter the no 9\n",
      "enter the no 2\n",
      "Lcm 18\n"
     ]
    }
   ],
   "source": [
    "p=int(input(\"enter the no \"))\n",
    "q=int(input(\"enter the no \"))\n",
    "if(p<q):\n",
    "    mul=q\n",
    "else:\n",
    "    mul=p\n",
    "while True:\n",
    "    if(mul%p==0 and mul%q==0):\n",
    "        print(\"Lcm\",mul)\n",
    "        break\n",
    "    mul+=1\n"
   ]
  },
  {
   "cell_type": "code",
   "execution_count": 9,
   "metadata": {},
   "outputs": [
    {
     "name": "stdout",
     "output_type": "stream",
     "text": [
      " 1\n",
      " 2 2\n",
      " 3 3 3\n",
      " 4 4 4 4\n",
      " 5 5 5 5 5\n",
      " 6 6 6 6 6 6\n",
      " 7 7 7 7 7 7 7\n",
      " 8 8 8 8 8 8 8 8\n",
      " 9 9 9 9 9 9 9 9 9\n"
     ]
    }
   ],
   "source": [
    "for i in range(0,9):\n",
    "\n",
    "     for j in range(0,i+1):\n",
    "            print((9-i)*'',i+1,end='')\n",
    "     print()\n",
    "     "
   ]
  },
  {
   "cell_type": "code",
   "execution_count": 2,
   "metadata": {},
   "outputs": [
    {
     "name": "stdout",
     "output_type": "stream",
     "text": [
      "          *\n",
      "         **\n",
      "        ***\n",
      "       ****\n",
      "      *****\n",
      "     ******\n",
      "    *******\n",
      "   ********\n",
      "  *********\n"
     ]
    }
   ],
   "source": [
    "for i in range(0,9):\n",
    "    print((9-i)*\" \",(i+1)*\"*\")"
   ]
  },
  {
   "cell_type": "code",
   "execution_count": 3,
   "metadata": {},
   "outputs": [
    {
     "name": "stdout",
     "output_type": "stream",
     "text": [
      "Enter the no 5\n",
      "      *\n",
      "     ***\n",
      "    *****\n",
      "   *******\n",
      "  *********\n"
     ]
    }
   ],
   "source": [
    "n=int(input(\"Enter the no \"))\n",
    "for i in range(0,n):\n",
    "    print((n-i)*' ',(\"*\"*((2*i)+1)))"
   ]
  },
  {
   "cell_type": "code",
   "execution_count": 4,
   "metadata": {},
   "outputs": [
    {
     "name": "stdout",
     "output_type": "stream",
     "text": [
      "*\t\n",
      "*\t*\t\n",
      "*\t*\t*\t\n",
      "*\t*\t*\t*\t\n",
      "*\t*\t*\t*\t*\t\n"
     ]
    }
   ],
   "source": [
    "for i in range(1,6):\n",
    "    for j in range(1,i+1):\n",
    "        print(\"*\",end=\"\\t\")\n",
    "    print(end=\"\\n\")"
   ]
  },
  {
   "cell_type": "code",
   "execution_count": 5,
   "metadata": {},
   "outputs": [
    {
     "name": "stdout",
     "output_type": "stream",
     "text": [
      "******\n",
      "*****\n",
      "****\n",
      "***\n",
      "**\n"
     ]
    }
   ],
   "source": [
    "for i in range(6,1,-1):\n",
    "    print(\"*\"*i)"
   ]
  },
  {
   "cell_type": "code",
   "execution_count": 7,
   "metadata": {},
   "outputs": [
    {
     "name": "stdout",
     "output_type": "stream",
     "text": [
      "A \n",
      "B C \n",
      "D E F \n",
      "G H I J \n",
      "K L M N O \n"
     ]
    }
   ],
   "source": [
    "num=65\n",
    "for i in range(0,5):\n",
    "    for j in range(0,i+1):\n",
    "        print(chr(num),end=\" \")\n",
    "        num=num+1\n",
    "    print()"
   ]
  },
  {
   "cell_type": "code",
   "execution_count": 8,
   "metadata": {},
   "outputs": [
    {
     "name": "stdout",
     "output_type": "stream",
     "text": [
      "Enter the no :9\n",
      "Enter the length :5\n",
      "111105\n"
     ]
    }
   ],
   "source": [
    "number=int(input(\"Enter the no :\"))\n",
    "length=int(input(\"Enter the length :\"))\n",
    "sum=0\n",
    "digit=0\n",
    "for i in range(0,length):\n",
    "    digit=digit*10+number\n",
    "    sum=sum+digit\n",
    "    \n",
    "print(sum)"
   ]
  },
  {
   "cell_type": "code",
   "execution_count": null,
   "metadata": {},
   "outputs": [],
   "source": []
  }
 ],
 "metadata": {
  "kernelspec": {
   "display_name": "Python 3",
   "language": "python",
   "name": "python3"
  },
  "language_info": {
   "codemirror_mode": {
    "name": "ipython",
    "version": 3
   },
   "file_extension": ".py",
   "mimetype": "text/x-python",
   "name": "python",
   "nbconvert_exporter": "python",
   "pygments_lexer": "ipython3",
   "version": "3.7.3"
  }
 },
 "nbformat": 4,
 "nbformat_minor": 2
}
