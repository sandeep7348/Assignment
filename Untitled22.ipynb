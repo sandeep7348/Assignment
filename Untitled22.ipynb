{
 "cells": [
  {
   "cell_type": "markdown",
   "metadata": {},
   "source": [
    "# Assignment"
   ]
  },
  {
   "cell_type": "code",
   "execution_count": 1,
   "metadata": {},
   "outputs": [
    {
     "data": {
      "text/plain": [
       "100"
      ]
     },
     "execution_count": 1,
     "metadata": {},
     "output_type": "execute_result"
    }
   ],
   "source": [
    "def hello(x,y):\n",
    "    return x**y\n",
    "hello(10,2)"
   ]
  },
  {
   "cell_type": "code",
   "execution_count": 4,
   "metadata": {},
   "outputs": [
    {
     "data": {
      "text/plain": [
       "'helloworld'"
      ]
     },
     "execution_count": 4,
     "metadata": {},
     "output_type": "execute_result"
    }
   ],
   "source": [
    "def hello(x=\"hello\" ,y=\"world\"):\n",
    "    return x+y\n",
    "hello()"
   ]
  },
  {
   "cell_type": "code",
   "execution_count": 5,
   "metadata": {},
   "outputs": [
    {
     "name": "stdout",
     "output_type": "stream",
     "text": [
      "False\n"
     ]
    }
   ],
   "source": [
    "def hello(x):\n",
    "    if(x%2==0):\n",
    "        return True\n",
    "    else:\n",
    "        return False\n",
    "p=hello(3)\n",
    "print(p)"
   ]
  },
  {
   "cell_type": "code",
   "execution_count": 6,
   "metadata": {},
   "outputs": [],
   "source": [
    "palindrome=lambda x:x[::-1]==x"
   ]
  },
  {
   "cell_type": "code",
   "execution_count": 7,
   "metadata": {},
   "outputs": [
    {
     "data": {
      "text/plain": [
       "True"
      ]
     },
     "execution_count": 7,
     "metadata": {},
     "output_type": "execute_result"
    }
   ],
   "source": [
    "palindrome('abba')"
   ]
  },
  {
   "cell_type": "code",
   "execution_count": 14,
   "metadata": {},
   "outputs": [
    {
     "name": "stdout",
     "output_type": "stream",
     "text": [
      "Enter the stringhello 123\n",
      "5\n"
     ]
    }
   ],
   "source": [
    "def st():\n",
    "    l=0\n",
    "    x=input(\"Enter the string\")\n",
    "    for s in x:\n",
    "        if s.isalpha():\n",
    "            l+=1\n",
    "    print(l)\n",
    "st()\n",
    "    \n",
    "    "
   ]
  },
  {
   "cell_type": "code",
   "execution_count": 19,
   "metadata": {},
   "outputs": [
    {
     "name": "stdout",
     "output_type": "stream",
     "text": [
      "Enter the no 2\n",
      "Enter the no 6\n",
      "Enter the no 9\n",
      "9\n"
     ]
    }
   ],
   "source": [
    "m=int(input(\"Enter the no \"))\n",
    "n=int(input(\"Enter the no \"))\n",
    "o=int(input(\"Enter the no \"))\n",
    "if(m>=n and m>=o):\n",
    "    print(m)\n",
    "elif (o>=m and o>=n):\n",
    "    print(o)\n",
    "else:\n",
    "    print(n)"
   ]
  },
  {
   "cell_type": "code",
   "execution_count": 118,
   "metadata": {},
   "outputs": [
    {
     "name": "stdout",
     "output_type": "stream",
     "text": [
      " + ---- + ---- +\n",
      " |\n",
      " |\n",
      " |\n",
      " |\n",
      " + ---- + ---- +\n",
      " |\n",
      " |\n",
      " |\n",
      " |\n",
      " + ---- + ---- +\n",
      "\n",
      "\n",
      "\n",
      "\n",
      "\n"
     ]
    }
   ],
   "source": [
    "for j in range(0,3):\n",
    "    for i in range(0,3):\n",
    "        print(5*i*\"\",\"+\",end=\"\")\n",
    "        if(i<2):\n",
    "            print((5*i+1)*\"\",4*\"-\",end=\"\")\n",
    "    for k in range(0,4):\n",
    "        print()\n",
    "        if(j<2):\n",
    "            print((5*k)*\"\",\"|\",end=\"\")\n",
    "    print()\n",
    "    \n",
    "            \n",
    "print()\n",
    "\n",
    "  "
   ]
  },
  {
   "cell_type": "code",
   "execution_count": null,
   "metadata": {},
   "outputs": [],
   "source": [
    "n=int(input(\"enter the no \"))\n",
    "rev=0\n",
    "while n!=0:\n",
    "    d=n%10\n",
    "    rev=rev*10+d\n",
    "    n=n/10\n",
    "print(rev)"
   ]
  },
  {
   "cell_type": "code",
   "execution_count": 5,
   "metadata": {},
   "outputs": [
    {
     "name": "stdout",
     "output_type": "stream",
     "text": [
      "Enter the no5\n",
      "5*1=  5\n",
      "5*2=  10\n",
      "5*3=  15\n",
      "5*4=  20\n",
      "5*5=  25\n",
      "5*6=  30\n",
      "5*7=  35\n",
      "5*8=  40\n",
      "5*9=  45\n",
      "5*10=  50\n"
     ]
    }
   ],
   "source": [
    "n=int(input(\"Enter the no\"))\n",
    "for i in range(1,11):\n",
    "    print(f\"{n}*{i}= \",n*i)"
   ]
  },
  {
   "cell_type": "code",
   "execution_count": 5,
   "metadata": {},
   "outputs": [
    {
     "name": "stdout",
     "output_type": "stream",
     "text": [
      "enter the no1845\n",
      "18\n"
     ]
    }
   ],
   "source": [
    "num=input(\"enter the no\")\n",
    "c=list(map(int ,str(num)))\n",
    "sum_no=0\n",
    "for num in c:\n",
    "    sum_no=sum_no+num\n",
    "print(sum_no)"
   ]
  },
  {
   "cell_type": "code",
   "execution_count": 16,
   "metadata": {},
   "outputs": [
    {
     "name": "stdout",
     "output_type": "stream",
     "text": [
      "enter the no1234\n",
      "[4, 3, 2, 1]\n"
     ]
    }
   ],
   "source": [
    "num=(input(\"enter the no\"))\n",
    "c=list(map(int ,str(num)))\n",
    "i=0\n",
    "j=len(c)-1\n",
    "while(i<j):\n",
    "    temp=c[i]\n",
    "    c[i]=c[j]\n",
    "    c[j]=temp\n",
    "    i+=1\n",
    "    j-=1\n",
    "print(c)"
   ]
  },
  {
   "cell_type": "code",
   "execution_count": 10,
   "metadata": {},
   "outputs": [
    {
     "name": "stdout",
     "output_type": "stream",
     "text": [
      "enter the no102920083\n",
      "152925583\n"
     ]
    }
   ],
   "source": [
    "num=input(\"enter the no\")\n",
    "num=num.replace(\"0\",\"5\")\n",
    "print(int(num))\n"
   ]
  },
  {
   "cell_type": "code",
   "execution_count": null,
   "metadata": {},
   "outputs": [],
   "source": []
  }
 ],
 "metadata": {
  "kernelspec": {
   "display_name": "Python 3",
   "language": "python",
   "name": "python3"
  }
 },
 "nbformat": 4,
 "nbformat_minor": 2
}
