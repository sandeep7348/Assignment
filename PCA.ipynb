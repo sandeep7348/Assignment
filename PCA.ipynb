{
  "nbformat": 4,
  "nbformat_minor": 0,
  "metadata": {
    "colab": {
      "provenance": [],
      "authorship_tag": "ABX9TyO2caMtSHhRblOxM73F8mf3",
      "include_colab_link": true
    },
    "kernelspec": {
      "name": "python3",
      "display_name": "Python 3"
    },
    "language_info": {
      "name": "python"
    }
  },
  "cells": [
    {
      "cell_type": "markdown",
      "metadata": {
        "id": "view-in-github",
        "colab_type": "text"
      },
      "source": [
        "<a href=\"https://colab.research.google.com/github/sandeep7348/Assignment/blob/master/PCA.ipynb\" target=\"_parent\"><img src=\"https://colab.research.google.com/assets/colab-badge.svg\" alt=\"Open In Colab\"/></a>"
      ]
    },
    {
      "cell_type": "code",
      "source": [],
      "metadata": {
        "id": "UkDUntnlIqDW"
      },
      "execution_count": null,
      "outputs": []
    },
    {
      "cell_type": "code",
      "execution_count": 10,
      "metadata": {
        "colab": {
          "base_uri": "https://localhost:8080/"
        },
        "id": "U9oYTUIEGPzo",
        "outputId": "97641e45-c55a-4e18-d559-6105976c7e0b"
      },
      "outputs": [
        {
          "output_type": "stream",
          "name": "stdout",
          "text": [
            "Original Data\n",
            "   Feature1  Feature2  Feature3  Feature4\n",
            "0         1         2         3         4\n",
            "1         5         6         7         8\n",
            "2         9        10        11        12\n",
            "3        13        14        15        16\n",
            "4        17        18        19        20\n",
            "\n",
            " Scaled Data\n",
            "   Feature1  Feature2  Feature3  Feature4\n",
            "0 -1.414214 -1.414214 -1.414214 -1.414214\n",
            "1 -0.707107 -0.707107 -0.707107 -0.707107\n",
            "2  0.000000  0.000000  0.000000  0.000000\n",
            "3  0.707107  0.707107  0.707107  0.707107\n",
            "4  1.414214  1.414214  1.414214  1.414214\n",
            "\n",
            "  Principal Components\n",
            "   principal Component 1  Principal Components 2\n",
            "0              -2.828427            3.648565e-16\n",
            "1              -1.414214           -1.216188e-16\n",
            "2               0.000000            0.000000e+00\n",
            "3               1.414214            1.216188e-16\n",
            "4               2.828427            2.432377e-16\n",
            "\n",
            "Explained Varience Ratio of Principal Components: [1.00000000e+00 1.10933565e-32]\n",
            "Total Explained Varience: 1.00\n",
            "\n",
            " Principle Component Loadings:\n",
            "                        Feature1  Feature2  Feature3  Feature4\n",
            "Principal Components 1  0.500000  0.500000  0.500000  0.500000\n",
            "Principal Components 2  0.866025 -0.288675 -0.288675 -0.288675\n"
          ]
        }
      ],
      "source": [
        "import numpy as np\n",
        "import pandas as pd\n",
        "from sklearn.decomposition import PCA\n",
        "from sklearn.preprocessing import StandardScaler\n",
        "\n",
        "data=np.array([[1,2,3,4],\n",
        "               [5,6,7,8],\n",
        "               [9,10,11,12],\n",
        "               [13,14,15,16],\n",
        "               [17,18,19,20]])\n",
        "df=pd.DataFrame(data, columns=['Feature1', 'Feature2', 'Feature3', 'Feature4'])\n",
        "print(\"Original Data\")\n",
        "print(df)\n",
        "\n",
        "#Standardize the data\n",
        "scaler=StandardScaler()\n",
        "scaled_data=scaler.fit_transform(df)\n",
        "scaled_df=pd.DataFrame(scaled_data, columns=df.columns)\n",
        "\n",
        "print(\"\\n Scaled Data\")\n",
        "print(scaled_df)\n",
        "\n",
        "# Apply PCA\n",
        "pca=PCA(n_components=2)\n",
        "\n",
        "principal_components=pca.fit_transform(scaled_data)\n",
        "pca_df=pd.DataFrame(data=principal_components, columns=['principal Component 1', 'Principal Components 2'])\n",
        "\n",
        "\n",
        "print(\"\\n  Principal Components\")\n",
        "print(pca_df)\n",
        "\n",
        "\n",
        "explained_variance_ratio=pca.explained_variance_ratio_\n",
        "print(f\"\\nExplained Varience Ratio of Principal Components: {explained_variance_ratio}\")\n",
        "print(f\"Total Explained Varience: {sum(explained_variance_ratio):.2f}\")\n",
        "\n",
        "\n",
        "# Acess Principal Componets\n",
        "loadings=pca.components_\n",
        "loadings_df=pd.DataFrame(loadings,\n",
        "                        columns=df.columns,\n",
        "                        index=['Principal Components 1', 'Principal Components 2'])\n",
        "print(\"\\n Principle Component Loadings:\")\n",
        "print(loadings_df)"
      ]
    }
  ]
}